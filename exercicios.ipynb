{
 "cells": [
  {
   "cell_type": "code",
   "execution_count": 1,
   "metadata": {},
   "outputs": [
    {
     "name": "stderr",
     "output_type": "stream",
     "text": [
      "[nltk_data] Downloading package gutenberg to\n",
      "[nltk_data]     /home/codespace/nltk_data...\n",
      "[nltk_data]   Package gutenberg is already up-to-date!\n"
     ]
    },
    {
     "data": {
      "text/plain": [
       "True"
      ]
     },
     "execution_count": 1,
     "metadata": {},
     "output_type": "execute_result"
    }
   ],
   "source": [
    "import nltk\n",
    "nltk.download('gutenberg')"
   ]
  },
  {
   "cell_type": "code",
   "execution_count": 2,
   "metadata": {},
   "outputs": [
    {
     "data": {
      "text/plain": [
       "<PlaintextCorpusReader in '/home/codespace/nltk_data/corpora/gutenberg'>"
      ]
     },
     "execution_count": 2,
     "metadata": {},
     "output_type": "execute_result"
    }
   ],
   "source": [
    "from nltk.corpus import gutenberg\n",
    "gutenberg"
   ]
  },
  {
   "cell_type": "code",
   "execution_count": 3,
   "metadata": {},
   "outputs": [
    {
     "data": {
      "text/plain": [
       "['austen-emma.txt',\n",
       " 'austen-persuasion.txt',\n",
       " 'austen-sense.txt',\n",
       " 'bible-kjv.txt',\n",
       " 'blake-poems.txt',\n",
       " 'bryant-stories.txt',\n",
       " 'burgess-busterbrown.txt',\n",
       " 'carroll-alice.txt',\n",
       " 'chesterton-ball.txt',\n",
       " 'chesterton-brown.txt',\n",
       " 'chesterton-thursday.txt',\n",
       " 'edgeworth-parents.txt',\n",
       " 'melville-moby_dick.txt',\n",
       " 'milton-paradise.txt',\n",
       " 'shakespeare-caesar.txt',\n",
       " 'shakespeare-hamlet.txt',\n",
       " 'shakespeare-macbeth.txt',\n",
       " 'whitman-leaves.txt']"
      ]
     },
     "execution_count": 3,
     "metadata": {},
     "output_type": "execute_result"
    }
   ],
   "source": [
    "gutenberg.fileids()"
   ]
  },
  {
   "cell_type": "code",
   "execution_count": 4,
   "metadata": {},
   "outputs": [
    {
     "data": {
      "text/plain": [
       "['[', 'The', 'Tragedie', 'of', 'Julius', 'Caesar', ...]"
      ]
     },
     "execution_count": 4,
     "metadata": {},
     "output_type": "execute_result"
    }
   ],
   "source": [
    "caesar_w = gutenberg.words('shakespeare-caesar.txt')\n",
    "caesar_w"
   ]
  },
  {
   "cell_type": "code",
   "execution_count": 5,
   "metadata": {},
   "outputs": [
    {
     "name": "stderr",
     "output_type": "stream",
     "text": [
      "[nltk_data] Downloading package punkt to /home/codespace/nltk_data...\n",
      "[nltk_data]   Package punkt is already up-to-date!\n",
      "[nltk_data] Downloading package punkt_tab to\n",
      "[nltk_data]     /home/codespace/nltk_data...\n",
      "[nltk_data]   Package punkt_tab is already up-to-date!\n"
     ]
    },
    {
     "data": {
      "text/plain": [
       "True"
      ]
     },
     "execution_count": 5,
     "metadata": {},
     "output_type": "execute_result"
    }
   ],
   "source": [
    "nltk.download('punkt')\n",
    "nltk.download('punkt_tab')"
   ]
  },
  {
   "cell_type": "code",
   "execution_count": 49,
   "metadata": {},
   "outputs": [
    {
     "data": {
      "text/plain": [
       "[['[',\n",
       "  'The',\n",
       "  'Tragedie',\n",
       "  'of',\n",
       "  'Julius',\n",
       "  'Caesar',\n",
       "  'by',\n",
       "  'William',\n",
       "  'Shakespeare',\n",
       "  '1599',\n",
       "  ']']]"
      ]
     },
     "execution_count": 49,
     "metadata": {},
     "output_type": "execute_result"
    }
   ],
   "source": [
    "caesar_s = gutenberg.sents('shakespeare-caesar.txt')\n",
    "caesar_s[:1]"
   ]
  },
  {
   "cell_type": "code",
   "execution_count": 50,
   "metadata": {},
   "outputs": [
    {
     "data": {
      "text/plain": [
       "[[['[',\n",
       "   'The',\n",
       "   'Tragedie',\n",
       "   'of',\n",
       "   'Julius',\n",
       "   'Caesar',\n",
       "   'by',\n",
       "   'William',\n",
       "   'Shakespeare',\n",
       "   '1599',\n",
       "   ']']]]"
      ]
     },
     "execution_count": 50,
     "metadata": {},
     "output_type": "execute_result"
    }
   ],
   "source": [
    "caesar_p = gutenberg.paras('shakespeare-caesar.txt')\n",
    "caesar_p[:1]"
   ]
  },
  {
   "cell_type": "code",
   "execution_count": 8,
   "metadata": {},
   "outputs": [
    {
     "data": {
      "text/plain": [
       "[(',', 2204),\n",
       " ('.', 1296),\n",
       " ('I', 531),\n",
       " ('the', 502),\n",
       " (':', 499),\n",
       " ('and', 409),\n",
       " (\"'\", 384),\n",
       " ('to', 370),\n",
       " ('you', 342),\n",
       " ('of', 336),\n",
       " ('?', 296),\n",
       " ('not', 249),\n",
       " ('a', 240),\n",
       " ('is', 230),\n",
       " ('And', 218)]"
      ]
     },
     "execution_count": 8,
     "metadata": {},
     "output_type": "execute_result"
    }
   ],
   "source": [
    "caesar_dist = nltk.probability.FreqDist(caesar_w)\n",
    "caesar_dist.most_common(15)"
   ]
  },
  {
   "cell_type": "code",
   "execution_count": 9,
   "metadata": {},
   "outputs": [
    {
     "data": {
      "text/plain": [
       "'!\"#$%&\\'()*+,-./:;<=>?@[\\\\]^_`{|}~'"
      ]
     },
     "execution_count": 9,
     "metadata": {},
     "output_type": "execute_result"
    }
   ],
   "source": [
    "import string\n",
    "string.punctuation"
   ]
  },
  {
   "cell_type": "code",
   "execution_count": 10,
   "metadata": {},
   "outputs": [],
   "source": [
    "caesar_r = []\n",
    "for word in caesar_w:\n",
    "    if word not in string.punctuation:\n",
    "        caesar_r.append(word)"
   ]
  },
  {
   "cell_type": "code",
   "execution_count": 11,
   "metadata": {},
   "outputs": [
    {
     "data": {
      "text/plain": [
       "[('I', 531),\n",
       " ('the', 502),\n",
       " ('and', 409),\n",
       " ('to', 370),\n",
       " ('you', 342),\n",
       " ('of', 336),\n",
       " ('not', 249),\n",
       " ('a', 240),\n",
       " ('is', 230),\n",
       " ('And', 218),\n",
       " ('d', 215),\n",
       " ('in', 204),\n",
       " ('that', 200),\n",
       " ('Caesar', 189),\n",
       " ('my', 188)]"
      ]
     },
     "execution_count": 11,
     "metadata": {},
     "output_type": "execute_result"
    }
   ],
   "source": [
    "caesar_dist = nltk.probability.FreqDist(caesar_r)\n",
    "caesar_dist.most_common(15)"
   ]
  },
  {
   "cell_type": "code",
   "execution_count": 12,
   "metadata": {},
   "outputs": [
    {
     "data": {
      "text/plain": [
       "4960"
      ]
     },
     "execution_count": 12,
     "metadata": {},
     "output_type": "execute_result"
    }
   ],
   "source": [
    "len(caesar_w) - len(caesar_r)"
   ]
  },
  {
   "cell_type": "code",
   "execution_count": 13,
   "metadata": {},
   "outputs": [
    {
     "name": "stderr",
     "output_type": "stream",
     "text": [
      "[nltk_data] Downloading package stopwords to\n",
      "[nltk_data]     /home/codespace/nltk_data...\n",
      "[nltk_data]   Package stopwords is already up-to-date!\n"
     ]
    }
   ],
   "source": [
    "nltk.download('stopwords')\n",
    "from nltk.corpus import stopwords"
   ]
  },
  {
   "cell_type": "code",
   "execution_count": 14,
   "metadata": {},
   "outputs": [
    {
     "data": {
      "text/plain": [
       "['i', 'me', 'my', 'myself', 'we', 'our', 'ours', 'ourselves', 'you', \"you're\"]"
      ]
     },
     "execution_count": 14,
     "metadata": {},
     "output_type": "execute_result"
    }
   ],
   "source": [
    "english_stopwords = stopwords.words('english')\n",
    "english_stopwords[:10]"
   ]
  },
  {
   "cell_type": "code",
   "execution_count": 15,
   "metadata": {},
   "outputs": [],
   "source": [
    "caesar_r = []\n",
    "for word in caesar_w:\n",
    "    if word not in string.punctuation:\n",
    "        if word.lower() not in english_stopwords:\n",
    "            caesar_r.append(word)"
   ]
  },
  {
   "cell_type": "code",
   "execution_count": 16,
   "metadata": {},
   "outputs": [
    {
     "data": {
      "text/plain": [
       "[('Caesar', 189),\n",
       " ('Brutus', 161),\n",
       " ('Bru', 153),\n",
       " ('haue', 128),\n",
       " ('shall', 107),\n",
       " ('Cassi', 107),\n",
       " ('thou', 100),\n",
       " ('Cassius', 85),\n",
       " ('Antony', 75),\n",
       " ('know', 66),\n",
       " ('Enter', 63),\n",
       " ('men', 62),\n",
       " ('vs', 62),\n",
       " ('man', 58),\n",
       " ('thee', 55)]"
      ]
     },
     "execution_count": 16,
     "metadata": {},
     "output_type": "execute_result"
    }
   ],
   "source": [
    "caesar_dist = nltk.probability.FreqDist(caesar_r)\n",
    "caesar_dist.most_common(15)"
   ]
  },
  {
   "cell_type": "code",
   "execution_count": 17,
   "metadata": {},
   "outputs": [
    {
     "data": {
      "text/plain": [
       "14706"
      ]
     },
     "execution_count": 17,
     "metadata": {},
     "output_type": "execute_result"
    }
   ],
   "source": [
    "len(caesar_w) - len(caesar_r)"
   ]
  },
  {
   "cell_type": "code",
   "execution_count": 18,
   "metadata": {},
   "outputs": [
    {
     "data": {
      "text/plain": [
       "'Caesar'"
      ]
     },
     "execution_count": 18,
     "metadata": {},
     "output_type": "execute_result"
    }
   ],
   "source": [
    "caesar_dist.max()"
   ]
  },
  {
   "cell_type": "code",
   "execution_count": 19,
   "metadata": {},
   "outputs": [
    {
     "data": {
      "text/plain": [
       "107"
      ]
     },
     "execution_count": 19,
     "metadata": {},
     "output_type": "execute_result"
    }
   ],
   "source": [
    "caesar_dist['Cassi']"
   ]
  },
  {
   "cell_type": "code",
   "execution_count": 20,
   "metadata": {},
   "outputs": [
    {
     "data": {
      "text/plain": [
       "0.009616248764267098"
      ]
     },
     "execution_count": 20,
     "metadata": {},
     "output_type": "execute_result"
    }
   ],
   "source": [
    "caesar_dist.freq('Cassi')"
   ]
  },
  {
   "cell_type": "code",
   "execution_count": 21,
   "metadata": {},
   "outputs": [
    {
     "data": {
      "text/plain": [
       "11127"
      ]
     },
     "execution_count": 21,
     "metadata": {},
     "output_type": "execute_result"
    }
   ],
   "source": [
    "caesar_dist.N()"
   ]
  },
  {
   "cell_type": "code",
   "execution_count": 22,
   "metadata": {},
   "outputs": [
    {
     "name": "stdout",
     "output_type": "stream",
     "text": [
      " Caesar  Brutus     Bru    haue   shall   Cassi    thou Cassius \n",
      "    189     161     153     128     107     107     100      85 \n"
     ]
    }
   ],
   "source": [
    "caesar_dist.tabulate(8)"
   ]
  },
  {
   "cell_type": "code",
   "execution_count": 23,
   "metadata": {},
   "outputs": [
    {
     "data": {
      "text/plain": [
       "<Axes: xlabel='Samples', ylabel='Counts'>"
      ]
     },
     "execution_count": 23,
     "metadata": {},
     "output_type": "execute_result"
    },
    {
     "data": {
      "image/png": "[encoded data removed]",
      "text/plain": [
       "<Figure size 640x480 with 1 Axes>"
      ]
     },
     "metadata": {},
     "output_type": "display_data"
    }
   ],
   "source": [
    "caesar_dist.plot(8)"
   ]
  },
  {
   "cell_type": "code",
   "execution_count": 24,
   "metadata": {},
   "outputs": [
    {
     "data": {
      "text/plain": [
       "nltk.text.Text"
      ]
     },
     "execution_count": 24,
     "metadata": {},
     "output_type": "execute_result"
    }
   ],
   "source": [
    "from nltk.text import Text\n",
    "caesar_t = Text(caesar_w)\n",
    "type(caesar_t)\n",
    "nltk.text.Text"
   ]
  },
  {
   "cell_type": "code",
   "execution_count": 25,
   "metadata": {},
   "outputs": [
    {
     "name": "stdout",
     "output_type": "stream",
     "text": [
      "Displaying 5 of 75 matches:\n",
      "efulnesse . Exeunt . Enter Caesar , Antony for the Course , Calphurnia , Porti\n",
      "rt Of that quicke Spirit that is in Antony : Let me not hinder Cassius your de\n",
      ". He loues no Playes , As thou dost Antony : he heares no Musicke ; Seldome he\n",
      "fer ' d him the Crowne ? Cask . Why Antony Bru . Tell vs the manner of it , ge\n",
      ", I did not marke it . I sawe Marke Antony offer him a Crowne , yet ' twas not\n"
     ]
    }
   ],
   "source": [
    "caesar_t.concordance('Antony',lines=5)"
   ]
  },
  {
   "cell_type": "code",
   "execution_count": 26,
   "metadata": {},
   "outputs": [
    {
     "name": "stdout",
     "output_type": "stream",
     "text": [
      "Mark Antony; Marke Antony; Good morrow; Caius Ligarius\n"
     ]
    }
   ],
   "source": [
    "caesar_t.collocations(num=4)"
   ]
  },
  {
   "cell_type": "code",
   "execution_count": 27,
   "metadata": {},
   "outputs": [
    {
     "name": "stdout",
     "output_type": "stream",
     "text": [
      "me it brutus you he rome that cassius this if men worke him vs feare\n",
      "world thee what know day\n"
     ]
    }
   ],
   "source": [
    "caesar_t.similar('Caesar')"
   ]
  },
  {
   "cell_type": "code",
   "execution_count": 28,
   "metadata": {},
   "outputs": [
    {
     "name": "stdout",
     "output_type": "stream",
     "text": [
      "O Cicero; O Cassius; O Conspiracie; O Caesar; O Caesar; O Caesar; O\n",
      "Constancie; O Caesar; O Caesar; O Caesar; O Cassius; O Cassius; O\n",
      "Cassius; O Coward; O Cassius; O Clitus\n"
     ]
    }
   ],
   "source": [
    "caesar_t.findall(r'<O><C.*>')"
   ]
  },
  {
   "cell_type": "code",
   "execution_count": 29,
   "metadata": {},
   "outputs": [
    {
     "data": {
      "image/png": "[encoded data removed]",
      "text/plain": [
       "<Figure size 640x480 with 1 Axes>"
      ]
     },
     "metadata": {},
     "output_type": "display_data"
    }
   ],
   "source": [
    "caesar_t.dispersion_plot(caesar_r[10:20])"
   ]
  },
  {
   "cell_type": "markdown",
   "metadata": {},
   "source": [
    "Classificação de textos"
   ]
  },
  {
   "cell_type": "code",
   "execution_count": 30,
   "metadata": {},
   "outputs": [
    {
     "name": "stderr",
     "output_type": "stream",
     "text": [
      "[nltk_data] Downloading package brown to /home/codespace/nltk_data...\n",
      "[nltk_data]   Package brown is already up-to-date!\n"
     ]
    },
    {
     "data": {
      "text/plain": [
       "['adventure',\n",
       " 'belles_lettres',\n",
       " 'editorial',\n",
       " 'fiction',\n",
       " 'government',\n",
       " 'hobbies',\n",
       " 'humor',\n",
       " 'learned',\n",
       " 'lore',\n",
       " 'mystery',\n",
       " 'news',\n",
       " 'religion',\n",
       " 'reviews',\n",
       " 'romance',\n",
       " 'science_fiction']"
      ]
     },
     "execution_count": 30,
     "metadata": {},
     "output_type": "execute_result"
    }
   ],
   "source": [
    "nltk.download('brown')\n",
    "from nltk.corpus import brown\n",
    "brown.categories()"
   ]
  },
  {
   "cell_type": "code",
   "execution_count": 31,
   "metadata": {},
   "outputs": [
    {
     "name": "stdout",
     "output_type": "stream",
     "text": [
      "editorial = 1003 parágrafos\n",
      "fiction = 1043 parágrafos\n"
     ]
    }
   ],
   "source": [
    "ed_p = brown.paras(categories='editorial')\n",
    "fic_p = brown.paras(categories='fiction')\n",
    "print('editorial = ' + str(len(ed_p)) + ' parágrafos')\n",
    "print('fiction = ' + str(len(fic_p)) +  ' parágrafos')"
   ]
  },
  {
   "cell_type": "code",
   "execution_count": 32,
   "metadata": {},
   "outputs": [
    {
     "name": "stdout",
     "output_type": "stream",
     "text": [
      "[[['Assembly', 'session', 'brought', 'much', 'good'], ['The', 'General', 'Assembly', ',', 'which', 'adjourns', 'today', ',', 'has', 'performed', 'in', 'an', 'atmosphere', 'of', 'crisis', 'and', 'struggle', 'from', 'the', 'day', 'it', 'convened', '.'], ['It', 'was', 'faced', 'immediately', 'with', 'a', 'showdown', 'on', 'the', 'schools', ',', 'an', 'issue', 'which', 'was', 'met', 'squarely', 'in', 'conjunction', 'with', 'the', 'governor', 'with', 'a', 'decision', 'not', 'to', 'risk', 'abandoning', 'public', 'education', '.']], [['There', 'followed', 'the', 'historic', 'appropriations', 'and', 'budget', 'fight', ',', 'in', 'which', 'the', 'General', 'Assembly', 'decided', 'to', 'tackle', 'executive', 'powers', '.'], ['The', 'final', 'decision', 'went', 'to', 'the', 'executive', 'but', 'a', 'way', 'has', 'been', 'opened', 'for', 'strengthening', 'budgeting', 'procedures', 'and', 'to', 'provide', 'legislators', 'information', 'they', 'need', '.']]]\n"
     ]
    }
   ],
   "source": [
    "print(ed_p[:2])"
   ]
  },
  {
   "cell_type": "code",
   "execution_count": 33,
   "metadata": {},
   "outputs": [],
   "source": [
    "def flatten(paragraph):\n",
    "    output = set([]) \n",
    "    for item in paragraph:\n",
    "        if isinstance(item, (list, tuple)): \n",
    "            output.update(item)\n",
    "        else:\n",
    "            output.add(item)\n",
    "            print('aqui')\n",
    "    return output"
   ]
  },
  {
   "cell_type": "code",
   "execution_count": 34,
   "metadata": {},
   "outputs": [],
   "source": [
    "ed_flat = []\n",
    "for paragraph in ed_p:\n",
    "    ed_flat.append(flatten(paragraph))\n",
    "fic_flat = []\n",
    "for paragraph in fic_p:\n",
    "    fic_flat.append(flatten(paragraph))\n"
   ]
  },
  {
   "cell_type": "code",
   "execution_count": 35,
   "metadata": {},
   "outputs": [
    {
     "name": "stdout",
     "output_type": "stream",
     "text": [
      "[{'brought', 'education', 'day', 'it', 'much', 'risk', 'squarely', 'crisis', 'met', 'an', 'decision', 'General', 'schools', 'governor', 'abandoning', 'of', 'immediately', 'issue', 'atmosphere', 'in', 'struggle', 'the', 'adjourns', 'convened', 'today', 'was', 'conjunction', 'Assembly', 'faced', 'not', 'to', 'showdown', 'on', 'which', 'has', 'a', ',', 'It', 'with', 'session', '.', 'good', 'and', 'public', 'from', 'The', 'performed'}, {'but', 'budgeting', 'decided', 'information', 'way', 'historic', 'final', 'followed', 'powers', 'decision', 'General', 'they', 'legislators', 'opened', 'in', 'the', 'Assembly', 'need', 'executive', 'fight', 'to', 'procedures', 'which', 'a', 'has', ',', 'provide', 'There', 'budget', 'tackle', 'strengthening', 'been', 'went', '.', 'and', 'for', 'appropriations', 'The'}]\n"
     ]
    }
   ],
   "source": [
    "print(ed_flat[:2])"
   ]
  },
  {
   "cell_type": "code",
   "execution_count": 36,
   "metadata": {},
   "outputs": [],
   "source": [
    "labeled_data = []\n",
    "for paragraph in ed_flat:\n",
    "    labeled_data.append((paragraph, 'editorial'))\n",
    "for paragraph in fic_flat:\n",
    "    labeled_data.append((paragraph, 'fictional'))"
   ]
  },
  {
   "cell_type": "code",
   "execution_count": 37,
   "metadata": {},
   "outputs": [
    {
     "name": "stdout",
     "output_type": "stream",
     "text": [
      "[({'brought', 'education', 'day', 'it', 'much', 'risk', 'squarely', 'crisis', 'met', 'an', 'decision', 'General', 'schools', 'governor', 'abandoning', 'of', 'immediately', 'issue', 'atmosphere', 'in', 'struggle', 'the', 'adjourns', 'convened', 'today', 'was', 'conjunction', 'Assembly', 'faced', 'not', 'to', 'showdown', 'on', 'which', 'has', 'a', ',', 'It', 'with', 'session', '.', 'good', 'and', 'public', 'from', 'The', 'performed'}, 'editorial'), ({'but', 'budgeting', 'decided', 'information', 'way', 'historic', 'final', 'followed', 'powers', 'decision', 'General', 'they', 'legislators', 'opened', 'in', 'the', 'Assembly', 'need', 'executive', 'fight', 'to', 'procedures', 'which', 'a', 'has', ',', 'provide', 'There', 'budget', 'tackle', 'strengthening', 'been', 'went', '.', 'and', 'for', 'appropriations', 'The'}, 'editorial')]\n"
     ]
    }
   ],
   "source": [
    "print(labeled_data[:2])"
   ]
  },
  {
   "cell_type": "code",
   "execution_count": 38,
   "metadata": {},
   "outputs": [
    {
     "name": "stdout",
     "output_type": "stream",
     "text": [
      "Texto do parágrafo = {'brought', 'education', 'day', 'it', 'much', 'risk', 'squarely', 'crisis', 'met', 'an', 'decision', 'General', 'schools', 'governor', 'abandoning', 'of', 'immediately', 'issue', 'atmosphere', 'in', 'struggle', 'the', 'adjourns', 'convened', 'today', 'was', 'conjunction', 'Assembly', 'faced', 'not', 'to', 'showdown', 'on', 'which', 'has', 'a', ',', 'It', 'with', 'session', '.', 'good', 'and', 'public', 'from', 'The', 'performed'}\n"
     ]
    }
   ],
   "source": [
    "print('Texto do parágrafo = ' + str(labeled_data[0][0]))"
   ]
  },
  {
   "cell_type": "code",
   "execution_count": 39,
   "metadata": {},
   "outputs": [
    {
     "name": "stdout",
     "output_type": "stream",
     "text": [
      "Categoria do parágrafo = editorial\n"
     ]
    }
   ],
   "source": [
    "print('Categoria do parágrafo = ' + labeled_data[0][1])"
   ]
  },
  {
   "cell_type": "code",
   "execution_count": 40,
   "metadata": {},
   "outputs": [],
   "source": [
    "from random import shuffle\n",
    "shuffle(labeled_data)"
   ]
  },
  {
   "cell_type": "code",
   "execution_count": 41,
   "metadata": {},
   "outputs": [
    {
     "data": {
      "text/plain": [
       "2046"
      ]
     },
     "execution_count": 41,
     "metadata": {},
     "output_type": "execute_result"
    }
   ],
   "source": [
    "len(labeled_data)"
   ]
  },
  {
   "cell_type": "code",
   "execution_count": 42,
   "metadata": {},
   "outputs": [],
   "source": [
    "tell_words = ['american', 'city', 'congress', 'country', 'county', 'editor', 'fact', 'government', 'national', 'nuclear', 'party', 'peace', 'political', 'power', 'president', 'public', 'state', 'states', 'united', 'war', 'washington', 'world', 'big', 'church', 'every', 'eyes', 'face', 'felt', 'found', 'god', 'hand', 'head', 'home', 'house', 'knew', 'moment', 'night', 'room', 'seemed',              'stood', 'think', 'though', 'thought', 'told', 'voice']\n"
   ]
  },
  {
   "cell_type": "code",
   "execution_count": 43,
   "metadata": {},
   "outputs": [],
   "source": [
    "def define_features(paragraph):\n",
    "    features = {}\n",
    "    for tell_word in tell_words:\n",
    "        features[tell_word] = tell_word in paragraph\n",
    "    return features\n",
    "\n",
    "feature_data = []\n",
    "for labaled_paragraph in labeled_data:\n",
    "    paragraph, label = labaled_paragraph\n",
    "    feature_data.append((define_features(paragraph),label))"
   ]
  },
  {
   "cell_type": "code",
   "execution_count": 44,
   "metadata": {},
   "outputs": [
    {
     "data": {
      "text/plain": [
       "[({'american': False,\n",
       "   'city': False,\n",
       "   'congress': False,\n",
       "   'country': False,\n",
       "   'county': False,\n",
       "   'editor': False,\n",
       "   'fact': False,\n",
       "   'government': False,\n",
       "   'national': False,\n",
       "   'nuclear': False,\n",
       "   'party': False,\n",
       "   'peace': False,\n",
       "   'political': False,\n",
       "   'power': False,\n",
       "   'president': False,\n",
       "   'public': False,\n",
       "   'state': False,\n",
       "   'states': False,\n",
       "   'united': False,\n",
       "   'war': False,\n",
       "   'washington': False,\n",
       "   'world': False,\n",
       "   'big': False,\n",
       "   'church': False,\n",
       "   'every': False,\n",
       "   'eyes': False,\n",
       "   'face': False,\n",
       "   'felt': False,\n",
       "   'found': False,\n",
       "   'god': False,\n",
       "   'hand': False,\n",
       "   'head': False,\n",
       "   'home': False,\n",
       "   'house': False,\n",
       "   'knew': False,\n",
       "   'moment': False,\n",
       "   'night': False,\n",
       "   'room': False,\n",
       "   'seemed': False,\n",
       "   'stood': False,\n",
       "   'think': False,\n",
       "   'though': False,\n",
       "   'thought': False,\n",
       "   'told': False,\n",
       "   'voice': False},\n",
       "  'fictional')]"
      ]
     },
     "execution_count": 44,
     "metadata": {},
     "output_type": "execute_result"
    }
   ],
   "source": [
    "feature_data[:1]"
   ]
  },
  {
   "cell_type": "code",
   "execution_count": 45,
   "metadata": {},
   "outputs": [],
   "source": [
    "train_data = feature_data[:1432]\n",
    "test_data = feature_data[1432:]"
   ]
  },
  {
   "cell_type": "code",
   "execution_count": 46,
   "metadata": {},
   "outputs": [
    {
     "data": {
      "text/plain": [
       "'editorial'"
      ]
     },
     "execution_count": 46,
     "metadata": {},
     "output_type": "execute_result"
    }
   ],
   "source": [
    "bayes = nltk.NaiveBayesClassifier.train(train_data)\n",
    "bayes.classify(train_data[0][0])"
   ]
  },
  {
   "cell_type": "code",
   "execution_count": 47,
   "metadata": {},
   "outputs": [
    {
     "name": "stdout",
     "output_type": "stream",
     "text": [
      "Most Informative Features\n",
      "                  editor = True           editor : fictio =     17.8 : 1.0\n",
      "                 thought = True           fictio : editor =     16.0 : 1.0\n",
      "                 nuclear = True           editor : fictio =     14.1 : 1.0\n",
      "              government = True           editor : fictio =     13.3 : 1.0\n",
      "               political = True           editor : fictio =     12.0 : 1.0\n",
      "                national = True           editor : fictio =     10.5 : 1.0\n",
      "                    knew = True           fictio : editor =      7.9 : 1.0\n",
      "                  county = True           editor : fictio =      7.6 : 1.0\n",
      "                   house = True           fictio : editor =      7.5 : 1.0\n",
      "                   voice = True           fictio : editor =      6.2 : 1.0\n"
     ]
    }
   ],
   "source": [
    "bayes.show_most_informative_features()"
   ]
  },
  {
   "cell_type": "code",
   "execution_count": 48,
   "metadata": {},
   "outputs": [
    {
     "data": {
      "text/plain": [
       "0.6612377850162866"
      ]
     },
     "execution_count": 48,
     "metadata": {},
     "output_type": "execute_result"
    }
   ],
   "source": [
    "nltk.classify.accuracy(bayes,test_data)"
   ]
  },
  {
   "cell_type": "code",
   "execution_count": null,
   "metadata": {},
   "outputs": [],
   "source": []
  }
 ],
 "metadata": {
  "kernelspec": {
   "display_name": "Python 3",
   "language": "python",
   "name": "python3"
  },
  "language_info": {
   "codemirror_mode": {
    "name": "ipython",
    "version": 3
   },
   "file_extension": ".py",
   "mimetype": "text/x-python",
   "name": "python",
   "nbconvert_exporter": "python",
   "pygments_lexer": "ipython3",
   "version": "3.12.1"
  }
 },
 "nbformat": 4,
 "nbformat_minor": 2
}
